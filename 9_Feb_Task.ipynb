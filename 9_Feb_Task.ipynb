{
 "cells": [
  {
   "cell_type": "markdown",
   "id": "315cd52b-1bd1-426d-88e0-82bd10ac771f",
   "metadata": {},
   "source": [
    "# Q1, Create a vehicle class with an init method having instance variables as name_of_vehicle, max_speed and average_of_vehicle.\n",
    "\n",
    "class vehicle:\n",
    "    def __init__(self, name_of_vehicle, max_speed, average_of_vehicle):\n",
    "        self.name_of_vehicle = name_of_vehicle\n",
    "        self.max_speed = max_speed\n",
    "        self.average_of_vehicle = average_of_vehicle\n",
    "        \n",
    "car = vehicle('Honda', 200, 40)\n",
    "print(car.name_of_vehicle)\n",
    "print(car.max_speed) \n",
    "print(car.average_of_vehicle)"
   ]
  },
  {
   "cell_type": "code",
   "execution_count": null,
   "id": "b8e20641-c403-4647-9d58-0a79a9dfefc9",
   "metadata": {},
   "outputs": [],
   "source": []
  },
  {
   "cell_type": "markdown",
   "id": "ddbda2d7-abdd-461b-a848-4f3ef153237f",
   "metadata": {},
   "source": [
    "# Q2. Create a child class car from the vehicle class created in Que 1, which will inherit the vehicle class. Create a method named seating_capacity which takes capacity as an argument and returns the name of the vehicle and its seating capacity.\n",
    "\n",
    "\n",
    "class vehicle:\n",
    "    def __init__(self, name_of_vehicle, max_speed, average_of_vehicle):\n",
    "        self.name_of_vehicle = name_of_vehicle\n",
    "        self.max_speed = max_speed\n",
    "        self.average_of_vehicle = average_of_vehicle\n",
    "        \n",
    "class car(vehicle):\n",
    "    def seating_capacity(self, capacity):\n",
    "        return f\"Name of the vehicle: {self.name_of_vehicle}\\nSeating capacity: {capacity}\"\n",
    "    \n",
    "car_name = car('Nano', 150, 30)\n",
    "print(car_name.seating_capacity(4))"
   ]
  },
  {
   "cell_type": "code",
   "execution_count": null,
   "id": "5403049a-08e2-4a33-8b3b-e370df3bff0c",
   "metadata": {},
   "outputs": [],
   "source": []
  },
  {
   "cell_type": "markdown",
   "id": "54fc30fe-54bd-44c5-81b9-bd46d12547c6",
   "metadata": {},
   "source": [
    "# Q3. What is multiple inheritance? Write a python code to demonstrate multiple inheritance.\n",
    "\n",
    "#### Multiple inheritance is a feature in object-oriented programming languages that allows a class to inherit properties and behavior from multiple parent classes. In other words, a class can inherit from more than one base class, thereby inheriting properties and methods from all of them.\n",
    "\n",
    "class Parent1:\n",
    "    def method1(self):\n",
    "        print(\"Parent 1 method\")\n",
    "\n",
    "class Parent2:\n",
    "    def method2(self):\n",
    "        print(\"Parent 2 method\")\n",
    "\n",
    "class Child(Parent1, Parent2):\n",
    "    pass\n",
    "\n",
    "c = Child()\n",
    "c.method1()\n",
    "c.method2()"
   ]
  },
  {
   "cell_type": "code",
   "execution_count": null,
   "id": "57ad6815-5b8c-4478-8e98-52daa4ad689b",
   "metadata": {},
   "outputs": [],
   "source": []
  },
  {
   "cell_type": "markdown",
   "id": "201be07c-e8dc-45f6-9714-19a2ad804fc2",
   "metadata": {},
   "source": [
    "# Q4. What are getter and setter in python? Create a class and create a getter and a setter method in this class.\n",
    "\n",
    "#### In object-oriented programming, getter and setter methods are used to provide access to an object's properties. The getter method is used to retrieve the value of an object's property, while the setter method is used to set or change the value of an object's property.\n",
    "\n",
    "class Person:\n",
    "    def __init__(self, name):\n",
    "        self._name = name\n",
    "    def get_name(self):\n",
    "        return self._name\n",
    "    def set_name(self, name):\n",
    "        self._name = name\n",
    "    name = property(get_name, set_name)\n",
    "    \n",
    "person = Person(\"Nimish\")\n",
    "print(\"Name:\", person.name)"
   ]
  },
  {
   "cell_type": "markdown",
   "id": "ce07610e-c4cb-42e2-9bc9-85edb408ae26",
   "metadata": {},
   "source": [
    "# Q5.What is method overriding in python? Write a python code to demonstrate method overriding.\n",
    "\n",
    "#### Method overriding is a feature in object-oriented programming that allows a subclass to provide a different implementation for a method that is already defined in its parent class. This allows the subclass to inherit the method from the parent class but provide a different behavior for that method, which is tailored to the needs of the subclass.\n",
    "\n",
    "class Employee:\n",
    "    def __init__(self, name, base_pay):\n",
    "        self.name = name\n",
    "        self.base_pay = base_pay\n",
    "    def get_pay(self):\n",
    "        return self.base_pay\n",
    "\n",
    "\n",
    "class SalesEmployee(Employee):\n",
    "    def __init__(self, name, base_pay, sales_incentive):\n",
    "        self.name = name\n",
    "        self.base_pay = base_pay\n",
    "        self.sales_incentive = sales_incentive\n",
    "    def get_pay(self):\n",
    "        return self.base_pay + self.sales_incentive\n",
    "\n",
    "\n",
    "\n",
    "john = SalesEmployee('John', 5000, 1500)\n",
    "print(john.get_pay())\n",
    "\n",
    "jane = Employee('Jane', 5000)\n",
    "print(jane.get_pay())"
   ]
  },
  {
   "cell_type": "code",
   "execution_count": null,
   "id": "54e28a24-2d3d-4fd0-956c-14a3d5e24be7",
   "metadata": {},
   "outputs": [],
   "source": []
  }
 ],
 "metadata": {
  "kernelspec": {
   "display_name": "Python 3 (ipykernel)",
   "language": "python",
   "name": "python3"
  },
  "language_info": {
   "codemirror_mode": {
    "name": "ipython",
    "version": 3
   },
   "file_extension": ".py",
   "mimetype": "text/x-python",
   "name": "python",
   "nbconvert_exporter": "python",
   "pygments_lexer": "ipython3",
   "version": "3.10.8"
  }
 },
 "nbformat": 4,
 "nbformat_minor": 5
}
